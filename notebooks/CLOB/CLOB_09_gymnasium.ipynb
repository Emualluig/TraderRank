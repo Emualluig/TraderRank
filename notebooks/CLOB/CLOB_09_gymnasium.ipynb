{
 "cells": [
  {
   "cell_type": "markdown",
   "metadata": {},
   "source": [
    "# TODO: use gynasium to train bot to trade on this simulation"
   ]
  }
 ],
 "metadata": {
  "language_info": {
   "name": "python"
  }
 },
 "nbformat": 4,
 "nbformat_minor": 2
}
