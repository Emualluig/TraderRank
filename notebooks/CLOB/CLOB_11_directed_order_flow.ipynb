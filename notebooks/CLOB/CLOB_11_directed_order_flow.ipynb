{
 "cells": [
  {
   "cell_type": "markdown",
   "metadata": {},
   "source": [
    "## idea:\n",
    "\n",
    "Generate limit orders based on a normal distribution with mean given by `flow` function. `flow` should also return number of orders. Changes in the `flow` output determines the stock price path."
   ]
  }
 ],
 "metadata": {
  "language_info": {
   "name": "python"
  }
 },
 "nbformat": 4,
 "nbformat_minor": 2
}
