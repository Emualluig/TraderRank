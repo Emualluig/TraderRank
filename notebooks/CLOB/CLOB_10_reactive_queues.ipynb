{
 "cells": [
  {
   "cell_type": "markdown",
   "metadata": {},
   "source": [
    "# TODO\n",
    "\n",
    "https://arxiv.org/abs/1312.0563\n",
    "\n",
    "https://quant.stackexchange.com/questions/76991/limit-order-book-modeling"
   ]
  }
 ],
 "metadata": {
  "language_info": {
   "name": "python"
  }
 },
 "nbformat": 4,
 "nbformat_minor": 2
}
