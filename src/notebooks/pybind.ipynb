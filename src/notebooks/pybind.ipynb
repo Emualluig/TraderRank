{
 "cells": [
  {
   "cell_type": "code",
   "execution_count": 1,
   "id": "4a41265e",
   "metadata": {},
   "outputs": [],
   "source": [
    "import os\n",
    "import sys\n",
    "\n",
    "sys.path.insert(0, os.path.abspath(\"python_modules\"))\n",
    "import Server"
   ]
  },
  {
   "cell_type": "code",
   "execution_count": 2,
   "id": "d275e667",
   "metadata": {},
   "outputs": [],
   "source": [
    "assert Server.meaning_of_life() == 42"
   ]
  },
  {
   "cell_type": "code",
   "execution_count": 3,
   "id": "fa5f9c97",
   "metadata": {},
   "outputs": [
    {
     "data": {
      "text/plain": [
       "['BOND', 'CAD']"
      ]
     },
     "execution_count": 3,
     "metadata": {},
     "output_type": "execute_result"
    }
   ],
   "source": [
    "simulation = Server.BindSimulation.create()\n",
    "tickers = simulation.get_tickers()\n",
    "tickers"
   ]
  },
  {
   "cell_type": "code",
   "execution_count": 4,
   "id": "ec751310",
   "metadata": {},
   "outputs": [
    {
     "name": "stdout",
     "output_type": "stream",
     "text": [
      "Bond: 0, CAD: 1\n"
     ]
    }
   ],
   "source": [
    "BOND_ID = tickers.index(\"BOND\")\n",
    "CAD_ID = tickers.index(\"CAD\")\n",
    "print(f\"Bond: {BOND_ID}, CAD: {CAD_ID}\")"
   ]
  }
 ],
 "metadata": {
  "kernelspec": {
   "display_name": "Python 3",
   "language": "python",
   "name": "python3"
  },
  "language_info": {
   "codemirror_mode": {
    "name": "ipython",
    "version": 3
   },
   "file_extension": ".py",
   "mimetype": "text/x-python",
   "name": "python",
   "nbconvert_exporter": "python",
   "pygments_lexer": "ipython3",
   "version": "3.12.3"
  }
 },
 "nbformat": 4,
 "nbformat_minor": 5
}
